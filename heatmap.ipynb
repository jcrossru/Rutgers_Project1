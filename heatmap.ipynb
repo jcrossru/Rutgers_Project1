{
 "cells": [
  {
   "cell_type": "code",
   "execution_count": 1,
   "metadata": {},
   "outputs": [],
   "source": [
    "import gmaps\n",
    "import pandas as pd\n",
    "import os\n",
    "\n",
    "# Google developer API key\n",
    "from config import gkey\n",
    "\n",
    "# Configure gmaps\n",
    "gmaps.configure(api_key=gkey)"
   ]
  },
  {
   "cell_type": "code",
   "execution_count": 2,
   "metadata": {},
   "outputs": [
    {
     "data": {
      "text/html": [
       "<div>\n",
       "<style scoped>\n",
       "    .dataframe tbody tr th:only-of-type {\n",
       "        vertical-align: middle;\n",
       "    }\n",
       "\n",
       "    .dataframe tbody tr th {\n",
       "        vertical-align: top;\n",
       "    }\n",
       "\n",
       "    .dataframe thead th {\n",
       "        text-align: right;\n",
       "    }\n",
       "</style>\n",
       "<table border=\"1\" class=\"dataframe\">\n",
       "  <thead>\n",
       "    <tr style=\"text-align: right;\">\n",
       "      <th></th>\n",
       "      <th>County</th>\n",
       "      <th>Crime Rate per 100k</th>\n",
       "      <th>Murder</th>\n",
       "      <th>Rape</th>\n",
       "      <th>Robbery</th>\n",
       "      <th>Assault</th>\n",
       "      <th>Burglary</th>\n",
       "      <th>Larceny</th>\n",
       "      <th>MV Theft</th>\n",
       "      <th>Arson</th>\n",
       "      <th>Population</th>\n",
       "      <th>Avg_Rating</th>\n",
       "      <th>Median_Rating</th>\n",
       "      <th>Avg_Price</th>\n",
       "      <th>Rest_Count</th>\n",
       "      <th>Avg_Lat</th>\n",
       "      <th>Avg_Lng</th>\n",
       "      <th>CountyName</th>\n",
       "      <th>State</th>\n",
       "    </tr>\n",
       "  </thead>\n",
       "  <tbody>\n",
       "    <tr>\n",
       "      <th>0</th>\n",
       "      <td>St. Louis city, MO</td>\n",
       "      <td>1791.995377</td>\n",
       "      <td>119</td>\n",
       "      <td>200</td>\n",
       "      <td>1778</td>\n",
       "      <td>3609</td>\n",
       "      <td>4995</td>\n",
       "      <td>13791</td>\n",
       "      <td>3543</td>\n",
       "      <td>464</td>\n",
       "      <td>318416</td>\n",
       "      <td>4.370</td>\n",
       "      <td>4.50</td>\n",
       "      <td>1.977778</td>\n",
       "      <td>50</td>\n",
       "      <td>38.626690</td>\n",
       "      <td>-90.293315</td>\n",
       "      <td>St. Louis city</td>\n",
       "      <td>MO</td>\n",
       "    </tr>\n",
       "    <tr>\n",
       "      <th>1</th>\n",
       "      <td>Crittenden County, AR</td>\n",
       "      <td>1754.914968</td>\n",
       "      <td>8</td>\n",
       "      <td>38</td>\n",
       "      <td>165</td>\n",
       "      <td>662</td>\n",
       "      <td>1482</td>\n",
       "      <td>1753</td>\n",
       "      <td>189</td>\n",
       "      <td>28</td>\n",
       "      <td>49746</td>\n",
       "      <td>3.360</td>\n",
       "      <td>3.50</td>\n",
       "      <td>1.357143</td>\n",
       "      <td>50</td>\n",
       "      <td>35.169865</td>\n",
       "      <td>-90.424857</td>\n",
       "      <td>Crittenden County</td>\n",
       "      <td>AR</td>\n",
       "    </tr>\n",
       "    <tr>\n",
       "      <th>2</th>\n",
       "      <td>Alexander County, IL</td>\n",
       "      <td>1664.700485</td>\n",
       "      <td>1</td>\n",
       "      <td>2</td>\n",
       "      <td>5</td>\n",
       "      <td>119</td>\n",
       "      <td>82</td>\n",
       "      <td>184</td>\n",
       "      <td>12</td>\n",
       "      <td>2</td>\n",
       "      <td>7629</td>\n",
       "      <td>4.160</td>\n",
       "      <td>4.00</td>\n",
       "      <td>1.720000</td>\n",
       "      <td>50</td>\n",
       "      <td>37.258090</td>\n",
       "      <td>-89.520924</td>\n",
       "      <td>Alexander County</td>\n",
       "      <td>IL</td>\n",
       "    </tr>\n",
       "    <tr>\n",
       "      <th>3</th>\n",
       "      <td>Kenedy County, TX</td>\n",
       "      <td>1456.310680</td>\n",
       "      <td>0</td>\n",
       "      <td>3</td>\n",
       "      <td>1</td>\n",
       "      <td>2</td>\n",
       "      <td>5</td>\n",
       "      <td>4</td>\n",
       "      <td>4</td>\n",
       "      <td>0</td>\n",
       "      <td>412</td>\n",
       "      <td>3.625</td>\n",
       "      <td>3.75</td>\n",
       "      <td>1.200000</td>\n",
       "      <td>8</td>\n",
       "      <td>27.232554</td>\n",
       "      <td>-97.740608</td>\n",
       "      <td>Kenedy County</td>\n",
       "      <td>TX</td>\n",
       "    </tr>\n",
       "    <tr>\n",
       "      <th>4</th>\n",
       "      <td>De Soto Parish, LA</td>\n",
       "      <td>1447.402430</td>\n",
       "      <td>3</td>\n",
       "      <td>4</td>\n",
       "      <td>17</td>\n",
       "      <td>368</td>\n",
       "      <td>149</td>\n",
       "      <td>494</td>\n",
       "      <td>60</td>\n",
       "      <td>0</td>\n",
       "      <td>27083</td>\n",
       "      <td>3.875</td>\n",
       "      <td>4.00</td>\n",
       "      <td>1.285714</td>\n",
       "      <td>16</td>\n",
       "      <td>32.065037</td>\n",
       "      <td>-93.699333</td>\n",
       "      <td>De Soto Parish</td>\n",
       "      <td>LA</td>\n",
       "    </tr>\n",
       "  </tbody>\n",
       "</table>\n",
       "</div>"
      ],
      "text/plain": [
       "                  County  Crime Rate per 100k  Murder  Rape   Robbery  \\\n",
       "0     St. Louis city, MO          1791.995377     119   200      1778   \n",
       "1  Crittenden County, AR          1754.914968       8    38       165   \n",
       "2   Alexander County, IL          1664.700485       1     2         5   \n",
       "3      Kenedy County, TX          1456.310680       0     3         1   \n",
       "4     De Soto Parish, LA          1447.402430       3     4        17   \n",
       "\n",
       "   Assault  Burglary  Larceny  MV Theft  Arson  Population  Avg_Rating  \\\n",
       "0     3609      4995    13791      3543    464      318416       4.370   \n",
       "1      662      1482     1753       189     28       49746       3.360   \n",
       "2      119        82      184        12      2        7629       4.160   \n",
       "3        2         5        4         4      0         412       3.625   \n",
       "4      368       149      494        60      0       27083       3.875   \n",
       "\n",
       "   Median_Rating  Avg_Price  Rest_Count    Avg_Lat    Avg_Lng  \\\n",
       "0           4.50   1.977778          50  38.626690 -90.293315   \n",
       "1           3.50   1.357143          50  35.169865 -90.424857   \n",
       "2           4.00   1.720000          50  37.258090 -89.520924   \n",
       "3           3.75   1.200000           8  27.232554 -97.740608   \n",
       "4           4.00   1.285714          16  32.065037 -93.699333   \n",
       "\n",
       "          CountyName State  \n",
       "0     St. Louis city    MO  \n",
       "1  Crittenden County    AR  \n",
       "2   Alexander County    IL  \n",
       "3      Kenedy County    TX  \n",
       "4     De Soto Parish    LA  "
      ]
     },
     "execution_count": 2,
     "metadata": {},
     "output_type": "execute_result"
    }
   ],
   "source": [
    "# load yelp dataframe\n",
    "#Bring in the csv file created from the Crime Data and convert to a dataframe\n",
    "csvpath = os.path.join(\"Yelp_reformat.csv\")\n",
    "#crime_df = pd.read_csv(csvpath, encoding=\"UTF-8\")\n",
    "yelptest_df = pd.read_csv(csvpath, encoding=\"UTF-8\")\n",
    "yelptest_df.columns=['County', 'Crime Rate per 100k', 'Murder', 'Rape', ' Robbery', 'Assault', 'Burglary',\n",
    "                   'Larceny', 'MV Theft', 'Arson', 'Population', 'Avg_Rating','Median_Rating','Avg_Price',\n",
    "                    'Rest_Count', 'Avg_Lat', 'Avg_Lng', 'CountyName', 'State']\n",
    "yelptest_df.head()"
   ]
  },
  {
   "cell_type": "code",
   "execution_count": 3,
   "metadata": {},
   "outputs": [],
   "source": [
    "# Store latitude and longitude in locations\n",
    "locations = yelptest_df[[\"Avg_Lat\", \"Avg_Lng\"]]\n",
    "\n",
    "# Fill NaN values and convert to float\n",
    "restaurant_rating = yelptest_df[\"Median_Rating\"].astype(float)"
   ]
  },
  {
   "cell_type": "code",
   "execution_count": 4,
   "metadata": {},
   "outputs": [
    {
     "data": {
      "application/vnd.jupyter.widget-view+json": {
       "model_id": "4a952afc696c45fdaf6f300fe0ba3d52",
       "version_major": 2,
       "version_minor": 0
      },
      "text/plain": [
       "Figure(layout=FigureLayout(height='420px'))"
      ]
     },
     "metadata": {},
     "output_type": "display_data"
    }
   ],
   "source": [
    "# Plot Heatmap\n",
    "fig = gmaps.figure()\n",
    "\n",
    "# Create heat layer\n",
    "heat_layer = gmaps.heatmap_layer(locations, weights=restaurant_rating, \n",
    "                                 dissipating=False, max_intensity=50,\n",
    "                                 point_radius=1)\n",
    "\n",
    "\n",
    "# Add layer\n",
    "fig.add_layer(heat_layer)\n",
    "\n",
    "# Display figure\n",
    "fig\n"
   ]
  },
  {
   "cell_type": "code",
   "execution_count": 5,
   "metadata": {},
   "outputs": [],
   "source": [
    "# Store latitude and longitude in locations\n",
    "locations = yelptest_df[[\"Avg_Lat\", \"Avg_Lng\"]]\n",
    "\n",
    "# Fill NaN values and convert to float\n",
    "crime_rating = yelptest_df[\"Crime Rate per 100k\"].astype(float)"
   ]
  },
  {
   "cell_type": "code",
   "execution_count": 7,
   "metadata": {},
   "outputs": [
    {
     "data": {
      "application/vnd.jupyter.widget-view+json": {
       "model_id": "f90f7f4af43b4b0693cdb3c57b804e15",
       "version_major": 2,
       "version_minor": 0
      },
      "text/plain": [
       "Figure(layout=FigureLayout(height='420px'))"
      ]
     },
     "metadata": {},
     "output_type": "display_data"
    }
   ],
   "source": [
    "# Plot Heatmap\n",
    "fig = gmaps.figure()\n",
    "\n",
    "# Create heat layer\n",
    "heat_layer = gmaps.heatmap_layer(locations, weights=crime_rating, \n",
    "                                 dissipating=False, max_intensity=2000,\n",
    "                                 point_radius=1)\n",
    "\n",
    "\n",
    "# Add layer\n",
    "fig.add_layer(heat_layer)\n",
    "\n",
    "# Display figure\n",
    "fig\n"
   ]
  },
  {
   "cell_type": "code",
   "execution_count": 4,
   "metadata": {},
   "outputs": [],
   "source": [
    "# Store latitude and longitude in locations\n",
    "locations = yelptest_df[[\"Avg_Lat\", \"Avg_Lng\"]]\n",
    "\n",
    "# Fill NaN values and convert to float\n",
    "population = yelptest_df[\"Population\"].astype(float)"
   ]
  },
  {
   "cell_type": "code",
   "execution_count": 10,
   "metadata": {},
   "outputs": [
    {
     "data": {
      "application/vnd.jupyter.widget-view+json": {
       "model_id": "c80fe3fa7731412db30e02f53afcc7dc",
       "version_major": 2,
       "version_minor": 0
      },
      "text/plain": [
       "Figure(layout=FigureLayout(height='420px'))"
      ]
     },
     "metadata": {},
     "output_type": "display_data"
    }
   ],
   "source": [
    "# Plot Heatmap\n",
    "fig = gmaps.figure()\n",
    "\n",
    "# Create heat layer\n",
    "heat_layer = gmaps.heatmap_layer(locations, weights=population, \n",
    "                                 dissipating=False, max_intensity=500000,\n",
    "                                 point_radius=1)\n",
    "\n",
    "\n",
    "# Add layer\n",
    "fig.add_layer(heat_layer)\n",
    "\n",
    "# Display figure\n",
    "fig\n"
   ]
  },
  {
   "cell_type": "code",
   "execution_count": null,
   "metadata": {},
   "outputs": [],
   "source": []
  }
 ],
 "metadata": {
  "kernelspec": {
   "display_name": "Python 3",
   "language": "python",
   "name": "python3"
  },
  "language_info": {
   "codemirror_mode": {
    "name": "ipython",
    "version": 3
   },
   "file_extension": ".py",
   "mimetype": "text/x-python",
   "name": "python",
   "nbconvert_exporter": "python",
   "pygments_lexer": "ipython3",
   "version": "3.7.1"
  }
 },
 "nbformat": 4,
 "nbformat_minor": 2
}
