{
 "cells": [
  {
   "cell_type": "code",
   "execution_count": 1,
   "metadata": {},
   "outputs": [
    {
     "ename": "ModuleNotFoundError",
     "evalue": "No module named 'APIkey'",
     "output_type": "error",
     "traceback": [
      "\u001b[1;31m---------------------------------------------------------------------------\u001b[0m",
      "\u001b[1;31mModuleNotFoundError\u001b[0m                       Traceback (most recent call last)",
      "\u001b[1;32m<ipython-input-1-8090c7521126>\u001b[0m in \u001b[0;36m<module>\u001b[1;34m\u001b[0m\n\u001b[0;32m      9\u001b[0m \u001b[0mget_ipython\u001b[0m\u001b[1;33m(\u001b[0m\u001b[1;33m)\u001b[0m\u001b[1;33m.\u001b[0m\u001b[0mrun_line_magic\u001b[0m\u001b[1;33m(\u001b[0m\u001b[1;34m'matplotlib'\u001b[0m\u001b[1;33m,\u001b[0m \u001b[1;34m'inline'\u001b[0m\u001b[1;33m)\u001b[0m\u001b[1;33m\u001b[0m\u001b[1;33m\u001b[0m\u001b[0m\n\u001b[0;32m     10\u001b[0m \u001b[0mmatplotlib\u001b[0m\u001b[1;33m.\u001b[0m\u001b[0mstyle\u001b[0m\u001b[1;33m.\u001b[0m\u001b[0muse\u001b[0m\u001b[1;33m(\u001b[0m\u001b[1;34m'ggplot'\u001b[0m\u001b[1;33m)\u001b[0m\u001b[1;33m\u001b[0m\u001b[1;33m\u001b[0m\u001b[0m\n\u001b[1;32m---> 11\u001b[1;33m \u001b[1;32mfrom\u001b[0m \u001b[0mAPIkey\u001b[0m \u001b[1;32mimport\u001b[0m \u001b[0mgkey\u001b[0m\u001b[1;33m\u001b[0m\u001b[1;33m\u001b[0m\u001b[0m\n\u001b[0m\u001b[0;32m     12\u001b[0m \u001b[1;32mimport\u001b[0m \u001b[0mgmaps\u001b[0m\u001b[1;33m\u001b[0m\u001b[1;33m\u001b[0m\u001b[0m\n\u001b[0;32m     13\u001b[0m \u001b[0mgmaps\u001b[0m\u001b[1;33m.\u001b[0m\u001b[0mconfigure\u001b[0m\u001b[1;33m(\u001b[0m\u001b[0mapi_key\u001b[0m\u001b[1;33m=\u001b[0m\u001b[0mgkey\u001b[0m\u001b[1;33m)\u001b[0m\u001b[1;33m\u001b[0m\u001b[1;33m\u001b[0m\u001b[0m\n",
      "\u001b[1;31mModuleNotFoundError\u001b[0m: No module named 'APIkey'"
     ]
    }
   ],
   "source": [
    "# Dependencies\n",
    "import pandas as pd\n",
    "import matplotlib\n",
    "import matplotlib.pyplot as plt\n",
    "import os\n",
    "from scipy import stats\n",
    "import numpy as np\n",
    "from numpy.polynomial.polynomial import polyfit\n",
    "%matplotlib inline\n",
    "matplotlib.style.use('ggplot')\n",
    "from APIkey import gkey\n",
    "import gmaps\n",
    "gmaps.configure(api_key=gkey)\n"
   ]
  },
  {
   "cell_type": "code",
   "execution_count": null,
   "metadata": {},
   "outputs": [],
   "source": [
    "#Bring in the csv file created from the Crime Data and convert to a dataframe\n",
    "csvpath = os.path.join(\"Yelp_reformat.csv\")\n",
    "yelptest_df = pd.read_csv(csvpath, encoding=\"UTF-8\")\n",
    "yelptest_df.columns=['County', 'Crime Rate per 100k', 'Murder', 'Rape', 'Robbery', 'Assault', 'Burglary',\n",
    "                   'Larceny', 'MV Theft', 'Arson', 'Population', 'Avg_Rating','Median_Rating','Avg_Price',\n",
    "                    'Rest_Count', 'Avg_Lat', 'Avg_Lng', 'CountyName', 'State']\n",
    "yelptest_df.head()"
   ]
  },
  {
   "cell_type": "code",
   "execution_count": null,
   "metadata": {},
   "outputs": [],
   "source": [
    "#Create rates per 10k population\n",
    "yelptest_df[\"Murder_per_10K\"] = yelptest_df[\"Murder\"]/yelptest_df[\"Population\"]*10000\n",
    "yelptest_df[\"Robbery_per_10K\"] = yelptest_df[\"Robbery\"]/yelptest_df[\"Population\"]*10000\n",
    "yelptest_df[\"Burglary_per_10K\"] = yelptest_df[\"Burglary\"]/yelptest_df[\"Population\"]*10000\n",
    "yelptest_df[\"MV_Theft_per_10K\"] = yelptest_df[\"MV Theft\"]/yelptest_df[\"Population\"]*10000\n",
    "yelptest_df[\"Larceny_per_10K\"] = yelptest_df[\"Larceny\"]/yelptest_df[\"Population\"]*10000\n",
    "yelptest_df[\"Assault_per_10K\"] = yelptest_df[\"Assault\"]/yelptest_df[\"Population\"]*10000\n",
    "yelptest_df[\"Rape_per_10K\"] = yelptest_df[\"Rape\"]/yelptest_df[\"Population\"]*10000\n",
    "yelptest_df[\"Arson_per_10K\"] = yelptest_df[\"Arson\"]/yelptest_df[\"Population\"]*10000\n",
    "\n",
    "yelptest_df.head()"
   ]
  },
  {
   "cell_type": "code",
   "execution_count": null,
   "metadata": {},
   "outputs": [],
   "source": [
    "# Change df\n",
    "newyelp_df =  yelptest_df"
   ]
  },
  {
   "cell_type": "code",
   "execution_count": null,
   "metadata": {},
   "outputs": [],
   "source": [
    "pop = newyelp_df[\"Population\"]\n",
    "murder = newyelp_df[\"Murder_per_10K\"]\n",
    "crime = newyelp_df[\"Crime Rate per 100k\"]\n",
    "rating = newyelp_df[\"Avg_Rating\"]\n",
    "robbery = newyelp_df[\"Robbery_per_10K\"]\n",
    "burglary = newyelp_df[\"Burglary_per_10K\"]\n",
    "MV_theft = newyelp_df[\"MV_Theft_per_10K\"]\n",
    "larceny = newyelp_df[\"Larceny_per_10K\"]\n",
    "rape = newyelp_df[\"Rape_per_10K\"]\n",
    "arson = newyelp_df[\"Arson_per_10K\"]\n",
    "assault = newyelp_df[\"Assault_per_10K\"]"
   ]
  },
  {
   "cell_type": "code",
   "execution_count": null,
   "metadata": {},
   "outputs": [],
   "source": [
    "#Compare Crime per 100K to the Avg Rating\n",
    "x=crime\n",
    "y=rating\n",
    "c = (crime).corr(rating)\n",
    "b, m = polyfit(x, y, 1)\n",
    "plt.plot(x, y, '.')\n",
    "plt.plot(x, b + m * x, '-')\n",
    "\n",
    "plt.suptitle(\"Crime Rate vs. Avg Restaurant Rating\",fontsize=12)\n",
    "plt.xlabel(\"Crime Rate per 100K\")\n",
    "plt.ylabel(\"Avg Restaurant Rating\")\n",
    "plt.title (\"R$^2$ value is \"+ str(round(c,5)),fontsize=12)\n",
    "\n",
    "\n",
    "plt.savefig(\"img_crime_rating.png\")\n",
    "\n",
    "plt.show()"
   ]
  },
  {
   "cell_type": "code",
   "execution_count": null,
   "metadata": {},
   "outputs": [],
   "source": [
    "#Compare Avg Rating to Population\n",
    "x=pop\n",
    "y=rating\n",
    "c = (pop).corr(rating)\n",
    "b, m = polyfit(x, y, 1)\n",
    "plt.xlim(0,200000)\n",
    "plt.plot(x, y, '.')\n",
    "plt.plot(x, b + m * x, '-')\n",
    "\n",
    "plt.suptitle(\"Avg Restaurant Rating vs. Population\",fontsize=12)\n",
    "plt.xlabel(\"Population\")\n",
    "plt.ylabel(\"Avg Restaurant Rating\")\n",
    "plt.title (\"R$^2$ value is \"+ str(round(c,5)),fontsize=12)\n",
    "\n",
    "plt.savefig(\"img_pop_rating.png\")\n",
    "plt.show()"
   ]
  },
  {
   "cell_type": "code",
   "execution_count": null,
   "metadata": {},
   "outputs": [],
   "source": [
    "#Compare Murder per 10K to the avg rating\n",
    "x=murder\n",
    "y=rating\n",
    "c = (murder).corr(rating)\n",
    "b, m = polyfit(x, y, 1)\n",
    "plt.xlim(0,5)\n",
    "plt.plot(x, y, '.')\n",
    "plt.plot(x, b + m * x, '-')\n",
    "\n",
    "plt.suptitle(\"Murder Rate vs. Avg Restaurant Rating\",fontsize=12)\n",
    "plt.xlabel(\"Murder Rate per 10k\")\n",
    "plt.ylabel(\"Avg Restaurant Rating\")\n",
    "plt.title (\"R$^2$ value is \"+ str(round(c,5)),fontsize=12)\n",
    "\n",
    "plt.savefig(\"img_murder_rating.png\")\n",
    "\n",
    "plt.show()\n"
   ]
  },
  {
   "cell_type": "code",
   "execution_count": null,
   "metadata": {},
   "outputs": [],
   "source": [
    "#Compare Larceny per 10K to the avg rating\n",
    "x=larceny\n",
    "y=rating\n",
    "c = (larceny).corr(rating)\n",
    "b, m = polyfit(x, y, 1)\n",
    "plt.xlim(0,500)\n",
    "plt.plot(x, y, '.')\n",
    "plt.plot(x, b + m * x, '-')\n",
    "\n",
    "plt.suptitle(\"Larceny Rate vs. Avg Restaurant Rating\",fontsize=12)\n",
    "plt.xlabel(\"Larceny per 10k\")\n",
    "plt.ylabel(\"Avg Restaurant Rating\")\n",
    "plt.title (\"R$^2$ value is \"+ str(round(c,5)),fontsize=12)\n",
    "plt.savefig(\"img_larceny_rating.png\")\n",
    "\n",
    "plt.show()"
   ]
  },
  {
   "cell_type": "code",
   "execution_count": null,
   "metadata": {},
   "outputs": [],
   "source": [
    "#Compare Robbery per 10k to Avg Yelp Rating\n",
    "x=robbery\n",
    "y=rating\n",
    "c = (robbery).corr(rating)\n",
    "b, m = polyfit(x, y, 1)\n",
    "plt.xlim(0,40)\n",
    "plt.plot(x, y, '.')\n",
    "plt.plot(x, b + m * x, '-')\n",
    "plt.suptitle(\"Robbery Rate vs. Avg Restaurant Rating\")\n",
    "plt.xlabel(\"Robbery Rate per 10k\")\n",
    "plt.ylabel(\"Avg Restaurant Rating\")\n",
    "plt.title (\"R$^2$ value is \"+ str(round(c,5)))\n",
    "\n",
    "plt.savefig(\"img_robbery_rating.png\")\n",
    "\n",
    "plt.show()"
   ]
  },
  {
   "cell_type": "code",
   "execution_count": null,
   "metadata": {},
   "outputs": [],
   "source": [
    "#Compare MV Theft to Avg Yelp Rating\n",
    "x=MV_theft\n",
    "y=rating\n",
    "c = (MV_theft).corr(rating)\n",
    "b, m = polyfit(x, y, 1)\n",
    "plt.xlim(0,60)\n",
    "plt.plot(x, y, '.')\n",
    "plt.plot(x, b + m * x, '-')\n",
    "plt.suptitle(\"MV Theft Rate vs. Avg Restaurant Rating\",fontsize=12)\n",
    "plt.xlabel(\"MV Theft per 10k\")\n",
    "plt.ylabel(\"Avg Restaurant Rating\")\n",
    "plt.title (\"R$^2$ value is \"+ str(round(c,5)),fontsize=12)\n",
    "\n",
    "plt.savefig(\"img_MV_theft_rating.png\")\n",
    "\n",
    "plt.show()\n",
    "\n"
   ]
  },
  {
   "cell_type": "code",
   "execution_count": null,
   "metadata": {},
   "outputs": [],
   "source": [
    "#Compare Rape to Avg Yelp Rating\n",
    "x=rape\n",
    "y=rating\n",
    "c = (rape).corr(rating)\n",
    "b, m = polyfit(x, y, 1)\n",
    "plt.xlim(0,60)\n",
    "plt.plot(x, y, '.')\n",
    "plt.plot(x, b + m * x, '-')\n",
    "plt.suptitle(\"Rape vs. Avg Restaurant Rating\",fontsize=12)\n",
    "plt.xlabel(\"MV Theft per 10k\")\n",
    "plt.ylabel(\"Avg Restaurant Rating\")\n",
    "plt.title (\"R$^2$ value is \"+ str(round(c,5)),fontsize=12)\n",
    "\n",
    "plt.savefig(\"img_Rape_rating.png\")\n",
    "\n",
    "plt.show()"
   ]
  },
  {
   "cell_type": "code",
   "execution_count": null,
   "metadata": {},
   "outputs": [],
   "source": [
    "#Compare Assault to Avg Yelp Rating\n",
    "x=assault\n",
    "y=rating\n",
    "c = (assault).corr(rating)\n",
    "b, m = polyfit(x, y, 1)\n",
    "plt.xlim(0,60)\n",
    "plt.plot(x, y, '.')\n",
    "plt.plot(x, b + m * x, '-')\n",
    "plt.suptitle(\"Assault vs. Avg Restaurant Rating\",fontsize=12)\n",
    "plt.xlabel(\"Assault per 10k\")\n",
    "plt.ylabel(\"Avg Restaurant Rating\")\n",
    "plt.title (\"R$^2$ value is \"+ str(round(c,5)),fontsize=12)\n",
    "\n",
    "plt.savefig(\"img_Rape_rating.png\")\n",
    "\n",
    "plt.show()"
   ]
  },
  {
   "cell_type": "code",
   "execution_count": 2,
   "metadata": {},
   "outputs": [
    {
     "ename": "NameError",
     "evalue": "name 'arson' is not defined",
     "output_type": "error",
     "traceback": [
      "\u001b[1;31m---------------------------------------------------------------------------\u001b[0m",
      "\u001b[1;31mNameError\u001b[0m                                 Traceback (most recent call last)",
      "\u001b[1;32m<ipython-input-2-3eec023526ad>\u001b[0m in \u001b[0;36m<module>\u001b[1;34m\u001b[0m\n\u001b[0;32m      1\u001b[0m \u001b[1;31m#Compare Arson to Avg Yelp Rating\u001b[0m\u001b[1;33m\u001b[0m\u001b[1;33m\u001b[0m\u001b[1;33m\u001b[0m\u001b[0m\n\u001b[1;32m----> 2\u001b[1;33m \u001b[0mx\u001b[0m\u001b[1;33m=\u001b[0m\u001b[0marson\u001b[0m\u001b[1;33m\u001b[0m\u001b[1;33m\u001b[0m\u001b[0m\n\u001b[0m\u001b[0;32m      3\u001b[0m \u001b[0my\u001b[0m\u001b[1;33m=\u001b[0m\u001b[0mrating\u001b[0m\u001b[1;33m\u001b[0m\u001b[1;33m\u001b[0m\u001b[0m\n\u001b[0;32m      4\u001b[0m \u001b[0mc\u001b[0m \u001b[1;33m=\u001b[0m \u001b[1;33m(\u001b[0m\u001b[0marson\u001b[0m\u001b[1;33m)\u001b[0m\u001b[1;33m.\u001b[0m\u001b[0mcorr\u001b[0m\u001b[1;33m(\u001b[0m\u001b[0mrating\u001b[0m\u001b[1;33m)\u001b[0m\u001b[1;33m\u001b[0m\u001b[1;33m\u001b[0m\u001b[0m\n\u001b[0;32m      5\u001b[0m \u001b[0mb\u001b[0m\u001b[1;33m,\u001b[0m \u001b[0mm\u001b[0m \u001b[1;33m=\u001b[0m \u001b[0mpolyfit\u001b[0m\u001b[1;33m(\u001b[0m\u001b[0mx\u001b[0m\u001b[1;33m,\u001b[0m \u001b[0my\u001b[0m\u001b[1;33m,\u001b[0m \u001b[1;36m1\u001b[0m\u001b[1;33m)\u001b[0m\u001b[1;33m\u001b[0m\u001b[1;33m\u001b[0m\u001b[0m\n",
      "\u001b[1;31mNameError\u001b[0m: name 'arson' is not defined"
     ]
    }
   ],
   "source": [
    "#Compare Arson to Avg Yelp Rating\n",
    "x=arson\n",
    "y=rating\n",
    "c = (arson).corr(rating)\n",
    "b, m = polyfit(x, y, 1)\n",
    "plt.xlim(0,60)\n",
    "plt.plot(x, y, '.')\n",
    "plt.plot(x, b + m * x, '-')\n",
    "plt.suptitle(\"Arson vs. Avg Restaurant Rating\",fontsize=12)\n",
    "plt.xlabel(\"Arson per 10k\")\n",
    "plt.ylabel(\"Avg Restaurant Rating\")\n",
    "plt.title (\"R$^2$ value is \"+ str(round(c,5)),fontsize=12)\n",
    "\n",
    "plt.savefig(\"img_Arson_rating.png\")\n",
    "\n",
    "plt.show()"
   ]
  },
  {
   "cell_type": "code",
   "execution_count": 3,
   "metadata": {},
   "outputs": [
    {
     "ename": "NameError",
     "evalue": "name 'newyelp_df' is not defined",
     "output_type": "error",
     "traceback": [
      "\u001b[1;31m---------------------------------------------------------------------------\u001b[0m",
      "\u001b[1;31mNameError\u001b[0m                                 Traceback (most recent call last)",
      "\u001b[1;32m<ipython-input-3-c554f938e228>\u001b[0m in \u001b[0;36m<module>\u001b[1;34m\u001b[0m\n\u001b[1;32m----> 1\u001b[1;33m \u001b[0mnewyelp_df\u001b[0m \u001b[1;33m=\u001b[0m \u001b[0mnewyelp_df\u001b[0m\u001b[1;33m.\u001b[0m\u001b[0mreset_index\u001b[0m \u001b[1;33m(\u001b[0m\u001b[0mdrop\u001b[0m \u001b[1;33m=\u001b[0m \u001b[1;32mTrue\u001b[0m\u001b[1;33m)\u001b[0m\u001b[1;33m\u001b[0m\u001b[1;33m\u001b[0m\u001b[0m\n\u001b[0m",
      "\u001b[1;31mNameError\u001b[0m: name 'newyelp_df' is not defined"
     ]
    }
   ],
   "source": [
    "newyelp_df = newyelp_df.reset_index (drop = True)"
   ]
  },
  {
   "cell_type": "code",
   "execution_count": 4,
   "metadata": {},
   "outputs": [
    {
     "ename": "NameError",
     "evalue": "name 'newyelp_df' is not defined",
     "output_type": "error",
     "traceback": [
      "\u001b[1;31m---------------------------------------------------------------------------\u001b[0m",
      "\u001b[1;31mNameError\u001b[0m                                 Traceback (most recent call last)",
      "\u001b[1;32m<ipython-input-4-08716d27a19a>\u001b[0m in \u001b[0;36m<module>\u001b[1;34m\u001b[0m\n\u001b[0;32m      1\u001b[0m \u001b[1;31m# Create a list of coordinates\u001b[0m\u001b[1;33m\u001b[0m\u001b[1;33m\u001b[0m\u001b[1;33m\u001b[0m\u001b[0m\n\u001b[1;32m----> 2\u001b[1;33m \u001b[0mAvg_Lat\u001b[0m \u001b[1;33m=\u001b[0m \u001b[0mlist\u001b[0m\u001b[1;33m(\u001b[0m\u001b[0mnewyelp_df\u001b[0m\u001b[1;33m[\u001b[0m\u001b[1;34m\"Avg_Lat\"\u001b[0m\u001b[1;33m]\u001b[0m\u001b[1;33m)\u001b[0m\u001b[1;33m\u001b[0m\u001b[1;33m\u001b[0m\u001b[0m\n\u001b[0m\u001b[0;32m      3\u001b[0m \u001b[0mAvg_Lng\u001b[0m \u001b[1;33m=\u001b[0m \u001b[0mlist\u001b[0m\u001b[1;33m(\u001b[0m\u001b[0mnewyelp_df\u001b[0m\u001b[1;33m[\u001b[0m\u001b[1;34m\"Avg_Lng\"\u001b[0m\u001b[1;33m]\u001b[0m\u001b[1;33m)\u001b[0m\u001b[1;33m\u001b[0m\u001b[1;33m\u001b[0m\u001b[0m\n\u001b[0;32m      4\u001b[0m \u001b[0mCrime_rate\u001b[0m \u001b[1;33m=\u001b[0m \u001b[0mlist\u001b[0m\u001b[1;33m(\u001b[0m\u001b[0mcrime\u001b[0m\u001b[1;33m)\u001b[0m\u001b[1;33m\u001b[0m\u001b[1;33m\u001b[0m\u001b[0m\n\u001b[0;32m      5\u001b[0m \u001b[1;33m\u001b[0m\u001b[0m\n",
      "\u001b[1;31mNameError\u001b[0m: name 'newyelp_df' is not defined"
     ]
    }
   ],
   "source": [
    "# Create a list of coordinates\n",
    "Avg_Lat = list(newyelp_df[\"Avg_Lat\"])\n",
    "Avg_Lng = list(newyelp_df[\"Avg_Lng\"])\n",
    "Crime_rate = list(crime)\n",
    "\n",
    "# coordinates = zip(newyelp_df[\"Avg_Lat\"], newyelp_df[\"Avg_Lng\"])\n",
    "coordinates = newyelp_df[[\"Avg_Lat\", \"Avg_Lng\"]]\n",
    "# coordinates = []\n",
    "# for i in range(0, len(Avg_Lat)):\n",
    "#     zip(Avg_Lat[i], Avg_Lng[i])\n",
    "#     coordinates.append(\"(\" + str(Avg_Lat[i]) + \", \" + str(Avg_Lng[i])+ \")\")\n",
    "#     coordinates.append(str(Avg_Lat[i]) + \", \" + str(Avg_Lng[i]))\n",
    "\n",
    "print(Crime_rate [1])\n",
    "# print (coordinates [1])\n",
    "\n",
    "print(coordinates)\n",
    "\n",
    "# coord_tuple = tuple(coordinates)"
   ]
  },
  {
   "cell_type": "code",
   "execution_count": 5,
   "metadata": {},
   "outputs": [
    {
     "ename": "NameError",
     "evalue": "name 'gmaps' is not defined",
     "output_type": "error",
     "traceback": [
      "\u001b[1;31m---------------------------------------------------------------------------\u001b[0m",
      "\u001b[1;31mNameError\u001b[0m                                 Traceback (most recent call last)",
      "\u001b[1;32m<ipython-input-5-b04c3b6c58ea>\u001b[0m in \u001b[0;36m<module>\u001b[1;34m\u001b[0m\n\u001b[0;32m      1\u001b[0m \u001b[1;31m# Create a heat map of crime rates\u001b[0m\u001b[1;33m\u001b[0m\u001b[1;33m\u001b[0m\u001b[1;33m\u001b[0m\u001b[0m\n\u001b[1;32m----> 2\u001b[1;33m \u001b[0mfig\u001b[0m \u001b[1;33m=\u001b[0m \u001b[0mgmaps\u001b[0m\u001b[1;33m.\u001b[0m\u001b[0mfigure\u001b[0m\u001b[1;33m(\u001b[0m\u001b[1;33m)\u001b[0m\u001b[1;33m\u001b[0m\u001b[1;33m\u001b[0m\u001b[0m\n\u001b[0m\u001b[0;32m      3\u001b[0m \u001b[0mheat_layer\u001b[0m \u001b[1;33m=\u001b[0m \u001b[0mgmaps\u001b[0m\u001b[1;33m.\u001b[0m\u001b[0mheatmap_layer\u001b[0m\u001b[1;33m(\u001b[0m\u001b[0mcoordinates\u001b[0m\u001b[1;33m,\u001b[0m \u001b[0mweights\u001b[0m\u001b[1;33m=\u001b[0m\u001b[0mcrime\u001b[0m\u001b[1;33m,\u001b[0m \u001b[0mmax_intensity\u001b[0m\u001b[1;33m=\u001b[0m\u001b[1;36m600\u001b[0m\u001b[1;33m)\u001b[0m\u001b[1;33m\u001b[0m\u001b[1;33m\u001b[0m\u001b[0m\n\u001b[0;32m      4\u001b[0m \u001b[0mfig\u001b[0m\u001b[1;33m.\u001b[0m\u001b[0madd_layer\u001b[0m\u001b[1;33m(\u001b[0m\u001b[0mheat_layer\u001b[0m\u001b[1;33m)\u001b[0m\u001b[1;33m\u001b[0m\u001b[1;33m\u001b[0m\u001b[0m\n\u001b[0;32m      5\u001b[0m \u001b[0mplt\u001b[0m\u001b[1;33m.\u001b[0m\u001b[0msavefig\u001b[0m\u001b[1;33m(\u001b[0m\u001b[1;34m\"img_crime_heat.png\"\u001b[0m\u001b[1;33m)\u001b[0m\u001b[1;33m\u001b[0m\u001b[1;33m\u001b[0m\u001b[0m\n",
      "\u001b[1;31mNameError\u001b[0m: name 'gmaps' is not defined"
     ]
    }
   ],
   "source": [
    "# Create a heat map of crime rates\n",
    "fig = gmaps.figure() \n",
    "heat_layer = gmaps.heatmap_layer(coordinates, weights=crime, max_intensity=600)\n",
    "fig.add_layer(heat_layer)\n",
    "plt.savefig(\"img_crime_heat.png\")\n",
    "fig"
   ]
  },
  {
   "cell_type": "code",
   "execution_count": 6,
   "metadata": {},
   "outputs": [
    {
     "ename": "NameError",
     "evalue": "name 'gmaps' is not defined",
     "output_type": "error",
     "traceback": [
      "\u001b[1;31m---------------------------------------------------------------------------\u001b[0m",
      "\u001b[1;31mNameError\u001b[0m                                 Traceback (most recent call last)",
      "\u001b[1;32m<ipython-input-6-dbcc088946d0>\u001b[0m in \u001b[0;36m<module>\u001b[1;34m\u001b[0m\n\u001b[0;32m      1\u001b[0m \u001b[1;31m# Create a heat map of ratings\u001b[0m\u001b[1;33m\u001b[0m\u001b[1;33m\u001b[0m\u001b[1;33m\u001b[0m\u001b[0m\n\u001b[1;32m----> 2\u001b[1;33m \u001b[0mfig\u001b[0m \u001b[1;33m=\u001b[0m \u001b[0mgmaps\u001b[0m\u001b[1;33m.\u001b[0m\u001b[0mfigure\u001b[0m\u001b[1;33m(\u001b[0m\u001b[1;33m)\u001b[0m\u001b[1;33m\u001b[0m\u001b[1;33m\u001b[0m\u001b[0m\n\u001b[0m\u001b[0;32m      3\u001b[0m \u001b[0mheat_layer\u001b[0m \u001b[1;33m=\u001b[0m \u001b[0mgmaps\u001b[0m\u001b[1;33m.\u001b[0m\u001b[0mheatmap_layer\u001b[0m\u001b[1;33m(\u001b[0m\u001b[0mcoordinates\u001b[0m\u001b[1;33m,\u001b[0m \u001b[0mweights\u001b[0m\u001b[1;33m=\u001b[0m\u001b[0mrating\u001b[0m\u001b[1;33m,\u001b[0m \u001b[0mmax_intensity\u001b[0m\u001b[1;33m=\u001b[0m\u001b[1;36m5\u001b[0m\u001b[1;33m)\u001b[0m\u001b[1;33m\u001b[0m\u001b[1;33m\u001b[0m\u001b[0m\n\u001b[0;32m      4\u001b[0m \u001b[0mfig\u001b[0m\u001b[1;33m.\u001b[0m\u001b[0madd_layer\u001b[0m\u001b[1;33m(\u001b[0m\u001b[0mheat_layer\u001b[0m\u001b[1;33m)\u001b[0m\u001b[1;33m\u001b[0m\u001b[1;33m\u001b[0m\u001b[0m\n\u001b[0;32m      5\u001b[0m \u001b[0mplt\u001b[0m\u001b[1;33m.\u001b[0m\u001b[0msavefig\u001b[0m\u001b[1;33m(\u001b[0m\u001b[1;34m\"img_ratings_heat.png\"\u001b[0m\u001b[1;33m)\u001b[0m\u001b[1;33m\u001b[0m\u001b[1;33m\u001b[0m\u001b[0m\n",
      "\u001b[1;31mNameError\u001b[0m: name 'gmaps' is not defined"
     ]
    }
   ],
   "source": [
    "# Create a heat map of ratings\n",
    "fig = gmaps.figure() \n",
    "heat_layer = gmaps.heatmap_layer(coordinates, weights=rating, max_intensity=5)\n",
    "fig.add_layer(heat_layer)\n",
    "plt.savefig(\"img_ratings_heat.png\")\n",
    "fig"
   ]
  },
  {
   "cell_type": "code",
   "execution_count": null,
   "metadata": {},
   "outputs": [],
   "source": []
  },
  {
   "cell_type": "code",
   "execution_count": null,
   "metadata": {},
   "outputs": [],
   "source": []
  }
 ],
 "metadata": {
  "kernelspec": {
   "display_name": "Python 3",
   "language": "python",
   "name": "python3"
  },
  "language_info": {
   "codemirror_mode": {
    "name": "ipython",
    "version": 3
   },
   "file_extension": ".py",
   "mimetype": "text/x-python",
   "name": "python",
   "nbconvert_exporter": "python",
   "pygments_lexer": "ipython3",
   "version": "3.7.1"
  }
 },
 "nbformat": 4,
 "nbformat_minor": 2
}
