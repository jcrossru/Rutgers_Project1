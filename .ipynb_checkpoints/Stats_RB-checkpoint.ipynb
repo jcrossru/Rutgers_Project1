{
 "cells": [
  {
   "cell_type": "code",
   "execution_count": 1,
   "metadata": {},
   "outputs": [],
   "source": [
    "# Dependencies\n",
    "import pandas as pd\n",
    "import matplotlib\n",
    "import matplotlib.pyplot as plt\n",
    "import numpy as np\n",
    "import os\n",
    "from scipy import stats\n",
    "%matplotlib inline\n",
    "matplotlib.style.use('ggplot')"
   ]
  },
  {
   "cell_type": "code",
   "execution_count": 2,
   "metadata": {},
   "outputs": [
    {
     "data": {
      "text/html": [
       "<div>\n",
       "<style scoped>\n",
       "    .dataframe tbody tr th:only-of-type {\n",
       "        vertical-align: middle;\n",
       "    }\n",
       "\n",
       "    .dataframe tbody tr th {\n",
       "        vertical-align: top;\n",
       "    }\n",
       "\n",
       "    .dataframe thead th {\n",
       "        text-align: right;\n",
       "    }\n",
       "</style>\n",
       "<table border=\"1\" class=\"dataframe\">\n",
       "  <thead>\n",
       "    <tr style=\"text-align: right;\">\n",
       "      <th></th>\n",
       "      <th>County</th>\n",
       "      <th>Crime Rate per 100k</th>\n",
       "      <th>Murder</th>\n",
       "      <th>Rape</th>\n",
       "      <th>Robbery</th>\n",
       "      <th>Assault</th>\n",
       "      <th>Burglary</th>\n",
       "      <th>Larceny</th>\n",
       "      <th>MV Theft</th>\n",
       "      <th>Arson</th>\n",
       "      <th>Population</th>\n",
       "      <th>Avg_Rating</th>\n",
       "      <th>Median_Rating</th>\n",
       "      <th>Avg_Price</th>\n",
       "      <th>Rest_Count</th>\n",
       "      <th>Avg_Lat</th>\n",
       "      <th>Avg_Lng</th>\n",
       "      <th>CountyName</th>\n",
       "      <th>State</th>\n",
       "    </tr>\n",
       "  </thead>\n",
       "  <tbody>\n",
       "    <tr>\n",
       "      <th>0</th>\n",
       "      <td>St. Louis city, MO</td>\n",
       "      <td>1791.995377</td>\n",
       "      <td>119</td>\n",
       "      <td>200</td>\n",
       "      <td>1778</td>\n",
       "      <td>3609</td>\n",
       "      <td>4995</td>\n",
       "      <td>13791</td>\n",
       "      <td>3543</td>\n",
       "      <td>464</td>\n",
       "      <td>318416</td>\n",
       "      <td>4.370</td>\n",
       "      <td>4.50</td>\n",
       "      <td>1.977778</td>\n",
       "      <td>50</td>\n",
       "      <td>38.626690</td>\n",
       "      <td>-90.293315</td>\n",
       "      <td>St. Louis city</td>\n",
       "      <td>MO</td>\n",
       "    </tr>\n",
       "    <tr>\n",
       "      <th>1</th>\n",
       "      <td>Crittenden County, AR</td>\n",
       "      <td>1754.914968</td>\n",
       "      <td>8</td>\n",
       "      <td>38</td>\n",
       "      <td>165</td>\n",
       "      <td>662</td>\n",
       "      <td>1482</td>\n",
       "      <td>1753</td>\n",
       "      <td>189</td>\n",
       "      <td>28</td>\n",
       "      <td>49746</td>\n",
       "      <td>3.360</td>\n",
       "      <td>3.50</td>\n",
       "      <td>1.357143</td>\n",
       "      <td>50</td>\n",
       "      <td>35.169865</td>\n",
       "      <td>-90.424857</td>\n",
       "      <td>Crittenden County</td>\n",
       "      <td>AR</td>\n",
       "    </tr>\n",
       "    <tr>\n",
       "      <th>2</th>\n",
       "      <td>Alexander County, IL</td>\n",
       "      <td>1664.700485</td>\n",
       "      <td>1</td>\n",
       "      <td>2</td>\n",
       "      <td>5</td>\n",
       "      <td>119</td>\n",
       "      <td>82</td>\n",
       "      <td>184</td>\n",
       "      <td>12</td>\n",
       "      <td>2</td>\n",
       "      <td>7629</td>\n",
       "      <td>4.160</td>\n",
       "      <td>4.00</td>\n",
       "      <td>1.720000</td>\n",
       "      <td>50</td>\n",
       "      <td>37.258090</td>\n",
       "      <td>-89.520924</td>\n",
       "      <td>Alexander County</td>\n",
       "      <td>IL</td>\n",
       "    </tr>\n",
       "    <tr>\n",
       "      <th>3</th>\n",
       "      <td>Kenedy County, TX</td>\n",
       "      <td>1456.310680</td>\n",
       "      <td>0</td>\n",
       "      <td>3</td>\n",
       "      <td>1</td>\n",
       "      <td>2</td>\n",
       "      <td>5</td>\n",
       "      <td>4</td>\n",
       "      <td>4</td>\n",
       "      <td>0</td>\n",
       "      <td>412</td>\n",
       "      <td>3.625</td>\n",
       "      <td>3.75</td>\n",
       "      <td>1.200000</td>\n",
       "      <td>8</td>\n",
       "      <td>27.232554</td>\n",
       "      <td>-97.740608</td>\n",
       "      <td>Kenedy County</td>\n",
       "      <td>TX</td>\n",
       "    </tr>\n",
       "    <tr>\n",
       "      <th>4</th>\n",
       "      <td>De Soto Parish, LA</td>\n",
       "      <td>1447.402430</td>\n",
       "      <td>3</td>\n",
       "      <td>4</td>\n",
       "      <td>17</td>\n",
       "      <td>368</td>\n",
       "      <td>149</td>\n",
       "      <td>494</td>\n",
       "      <td>60</td>\n",
       "      <td>0</td>\n",
       "      <td>27083</td>\n",
       "      <td>3.875</td>\n",
       "      <td>4.00</td>\n",
       "      <td>1.285714</td>\n",
       "      <td>16</td>\n",
       "      <td>32.065037</td>\n",
       "      <td>-93.699333</td>\n",
       "      <td>De Soto Parish</td>\n",
       "      <td>LA</td>\n",
       "    </tr>\n",
       "  </tbody>\n",
       "</table>\n",
       "</div>"
      ],
      "text/plain": [
       "                  County  Crime Rate per 100k  Murder  Rape  Robbery  Assault  \\\n",
       "0     St. Louis city, MO          1791.995377     119   200     1778     3609   \n",
       "1  Crittenden County, AR          1754.914968       8    38      165      662   \n",
       "2   Alexander County, IL          1664.700485       1     2        5      119   \n",
       "3      Kenedy County, TX          1456.310680       0     3        1        2   \n",
       "4     De Soto Parish, LA          1447.402430       3     4       17      368   \n",
       "\n",
       "   Burglary  Larceny  MV Theft  Arson  Population  Avg_Rating  Median_Rating  \\\n",
       "0      4995    13791      3543    464      318416       4.370           4.50   \n",
       "1      1482     1753       189     28       49746       3.360           3.50   \n",
       "2        82      184        12      2        7629       4.160           4.00   \n",
       "3         5        4         4      0         412       3.625           3.75   \n",
       "4       149      494        60      0       27083       3.875           4.00   \n",
       "\n",
       "   Avg_Price  Rest_Count    Avg_Lat    Avg_Lng         CountyName State  \n",
       "0   1.977778          50  38.626690 -90.293315     St. Louis city    MO  \n",
       "1   1.357143          50  35.169865 -90.424857  Crittenden County    AR  \n",
       "2   1.720000          50  37.258090 -89.520924   Alexander County    IL  \n",
       "3   1.200000           8  27.232554 -97.740608      Kenedy County    TX  \n",
       "4   1.285714          16  32.065037 -93.699333     De Soto Parish    LA  "
      ]
     },
     "execution_count": 2,
     "metadata": {},
     "output_type": "execute_result"
    }
   ],
   "source": [
    "#Bring in the csv file created from the Yelp reformat and convert to a dataframe\n",
    "csvpath = os.path.join(\"Yelp_reformat.csv\")\n",
    "yelptest_df = pd.read_csv(csvpath, encoding=\"UTF-8\")\n",
    "yelptest_df.head()"
   ]
  },
  {
   "cell_type": "code",
   "execution_count": 3,
   "metadata": {},
   "outputs": [
    {
     "data": {
      "text/html": [
       "<div>\n",
       "<style scoped>\n",
       "    .dataframe tbody tr th:only-of-type {\n",
       "        vertical-align: middle;\n",
       "    }\n",
       "\n",
       "    .dataframe tbody tr th {\n",
       "        vertical-align: top;\n",
       "    }\n",
       "\n",
       "    .dataframe thead th {\n",
       "        text-align: right;\n",
       "    }\n",
       "</style>\n",
       "<table border=\"1\" class=\"dataframe\">\n",
       "  <thead>\n",
       "    <tr style=\"text-align: right;\">\n",
       "      <th></th>\n",
       "      <th>County</th>\n",
       "      <th>Crime Rate per 100k</th>\n",
       "      <th>Murder</th>\n",
       "      <th>Rape</th>\n",
       "      <th>Robbery</th>\n",
       "      <th>Assault</th>\n",
       "      <th>Burglary</th>\n",
       "      <th>Larceny</th>\n",
       "      <th>MV Theft</th>\n",
       "      <th>Arson</th>\n",
       "      <th>...</th>\n",
       "      <th>Avg_Price</th>\n",
       "      <th>Rest_Count</th>\n",
       "      <th>Avg_Lat</th>\n",
       "      <th>Avg_Lng</th>\n",
       "      <th>CountyName</th>\n",
       "      <th>State</th>\n",
       "      <th>Murder_per_10K</th>\n",
       "      <th>Robbery_per_10K</th>\n",
       "      <th>Burglary_per_10K</th>\n",
       "      <th>MV_Theft_per_10K</th>\n",
       "    </tr>\n",
       "  </thead>\n",
       "  <tbody>\n",
       "    <tr>\n",
       "      <th>0</th>\n",
       "      <td>St. Louis city, MO</td>\n",
       "      <td>1791.995377</td>\n",
       "      <td>119</td>\n",
       "      <td>200</td>\n",
       "      <td>1778</td>\n",
       "      <td>3609</td>\n",
       "      <td>4995</td>\n",
       "      <td>13791</td>\n",
       "      <td>3543</td>\n",
       "      <td>464</td>\n",
       "      <td>...</td>\n",
       "      <td>1.977778</td>\n",
       "      <td>50</td>\n",
       "      <td>38.626690</td>\n",
       "      <td>-90.293315</td>\n",
       "      <td>St. Louis city</td>\n",
       "      <td>MO</td>\n",
       "      <td>3.737249</td>\n",
       "      <td>55.838903</td>\n",
       "      <td>156.870258</td>\n",
       "      <td>111.269534</td>\n",
       "    </tr>\n",
       "    <tr>\n",
       "      <th>1</th>\n",
       "      <td>Crittenden County, AR</td>\n",
       "      <td>1754.914968</td>\n",
       "      <td>8</td>\n",
       "      <td>38</td>\n",
       "      <td>165</td>\n",
       "      <td>662</td>\n",
       "      <td>1482</td>\n",
       "      <td>1753</td>\n",
       "      <td>189</td>\n",
       "      <td>28</td>\n",
       "      <td>...</td>\n",
       "      <td>1.357143</td>\n",
       "      <td>50</td>\n",
       "      <td>35.169865</td>\n",
       "      <td>-90.424857</td>\n",
       "      <td>Crittenden County</td>\n",
       "      <td>AR</td>\n",
       "      <td>1.608170</td>\n",
       "      <td>33.168496</td>\n",
       "      <td>297.913400</td>\n",
       "      <td>37.993004</td>\n",
       "    </tr>\n",
       "    <tr>\n",
       "      <th>2</th>\n",
       "      <td>Alexander County, IL</td>\n",
       "      <td>1664.700485</td>\n",
       "      <td>1</td>\n",
       "      <td>2</td>\n",
       "      <td>5</td>\n",
       "      <td>119</td>\n",
       "      <td>82</td>\n",
       "      <td>184</td>\n",
       "      <td>12</td>\n",
       "      <td>2</td>\n",
       "      <td>...</td>\n",
       "      <td>1.720000</td>\n",
       "      <td>50</td>\n",
       "      <td>37.258090</td>\n",
       "      <td>-89.520924</td>\n",
       "      <td>Alexander County</td>\n",
       "      <td>IL</td>\n",
       "      <td>1.310788</td>\n",
       "      <td>6.553939</td>\n",
       "      <td>107.484598</td>\n",
       "      <td>15.729453</td>\n",
       "    </tr>\n",
       "    <tr>\n",
       "      <th>3</th>\n",
       "      <td>Kenedy County, TX</td>\n",
       "      <td>1456.310680</td>\n",
       "      <td>0</td>\n",
       "      <td>3</td>\n",
       "      <td>1</td>\n",
       "      <td>2</td>\n",
       "      <td>5</td>\n",
       "      <td>4</td>\n",
       "      <td>4</td>\n",
       "      <td>0</td>\n",
       "      <td>...</td>\n",
       "      <td>1.200000</td>\n",
       "      <td>8</td>\n",
       "      <td>27.232554</td>\n",
       "      <td>-97.740608</td>\n",
       "      <td>Kenedy County</td>\n",
       "      <td>TX</td>\n",
       "      <td>0.000000</td>\n",
       "      <td>24.271845</td>\n",
       "      <td>121.359223</td>\n",
       "      <td>97.087379</td>\n",
       "    </tr>\n",
       "    <tr>\n",
       "      <th>4</th>\n",
       "      <td>De Soto Parish, LA</td>\n",
       "      <td>1447.402430</td>\n",
       "      <td>3</td>\n",
       "      <td>4</td>\n",
       "      <td>17</td>\n",
       "      <td>368</td>\n",
       "      <td>149</td>\n",
       "      <td>494</td>\n",
       "      <td>60</td>\n",
       "      <td>0</td>\n",
       "      <td>...</td>\n",
       "      <td>1.285714</td>\n",
       "      <td>16</td>\n",
       "      <td>32.065037</td>\n",
       "      <td>-93.699333</td>\n",
       "      <td>De Soto Parish</td>\n",
       "      <td>LA</td>\n",
       "      <td>1.107706</td>\n",
       "      <td>6.277000</td>\n",
       "      <td>55.016062</td>\n",
       "      <td>22.154119</td>\n",
       "    </tr>\n",
       "  </tbody>\n",
       "</table>\n",
       "<p>5 rows × 23 columns</p>\n",
       "</div>"
      ],
      "text/plain": [
       "                  County  Crime Rate per 100k  Murder  Rape  Robbery  Assault  \\\n",
       "0     St. Louis city, MO          1791.995377     119   200     1778     3609   \n",
       "1  Crittenden County, AR          1754.914968       8    38      165      662   \n",
       "2   Alexander County, IL          1664.700485       1     2        5      119   \n",
       "3      Kenedy County, TX          1456.310680       0     3        1        2   \n",
       "4     De Soto Parish, LA          1447.402430       3     4       17      368   \n",
       "\n",
       "   Burglary  Larceny  MV Theft  Arson        ...         Avg_Price  \\\n",
       "0      4995    13791      3543    464        ...          1.977778   \n",
       "1      1482     1753       189     28        ...          1.357143   \n",
       "2        82      184        12      2        ...          1.720000   \n",
       "3         5        4         4      0        ...          1.200000   \n",
       "4       149      494        60      0        ...          1.285714   \n",
       "\n",
       "   Rest_Count    Avg_Lat    Avg_Lng         CountyName  State  Murder_per_10K  \\\n",
       "0          50  38.626690 -90.293315     St. Louis city     MO        3.737249   \n",
       "1          50  35.169865 -90.424857  Crittenden County     AR        1.608170   \n",
       "2          50  37.258090 -89.520924   Alexander County     IL        1.310788   \n",
       "3           8  27.232554 -97.740608      Kenedy County     TX        0.000000   \n",
       "4          16  32.065037 -93.699333     De Soto Parish     LA        1.107706   \n",
       "\n",
       "  Robbery_per_10K Burglary_per_10K  MV_Theft_per_10K  \n",
       "0       55.838903       156.870258        111.269534  \n",
       "1       33.168496       297.913400         37.993004  \n",
       "2        6.553939       107.484598         15.729453  \n",
       "3       24.271845       121.359223         97.087379  \n",
       "4        6.277000        55.016062         22.154119  \n",
       "\n",
       "[5 rows x 23 columns]"
      ]
     },
     "execution_count": 3,
     "metadata": {},
     "output_type": "execute_result"
    }
   ],
   "source": [
    "#Create some new fields to show crime rates per 10K\n",
    "yelptest_df[\"Murder_per_10K\"] = yelptest_df[\"Murder\"]/yelptest_df[\"Population\"]*10000\n",
    "yelptest_df[\"Robbery_per_10K\"] = yelptest_df[\"Robbery\"]/yelptest_df[\"Population\"]*10000\n",
    "yelptest_df[\"Burglary_per_10K\"] = yelptest_df[\"Burglary\"]/yelptest_df[\"Population\"]*10000\n",
    "yelptest_df[\"MV_Theft_per_10K\"] = yelptest_df[\"MV Theft\"]/yelptest_df[\"Population\"]*10000\n",
    "\n",
    "yelptest_df.head()"
   ]
  },
  {
   "cell_type": "code",
   "execution_count": 4,
   "metadata": {},
   "outputs": [
    {
     "data": {
      "image/png": "[encoded data removed]",
      "text/plain": [
       "<Figure size 432x288 with 1 Axes>"
      ]
     },
     "metadata": {
      "needs_background": "light"
     },
     "output_type": "display_data"
    }
   ],
   "source": [
    "# Create Bins for the ranges of avg restaurant rating\n",
    "bins = [0, 3, 3.25, 3.5, 3.75, 4, 4.25, 4.5, 5] # first is less than or equal to 60\n",
    "group_names = [\"<3.0\", \"3.0-3.25\", \"3.25-3.5\", \"3.5-3.75\",\"3.75-4.0\",\"4.0-4.25\",\"4.25-4.5\",\">4.5\"] \n",
    "yelptest_df[\"rating_groups\"] = pd.cut(yelptest_df[\"Avg_Rating\"], bins, labels=group_names) \n",
    "\n",
    "# Create a list of the counts in each group\n",
    "df_rating_groups = yelptest_df.groupby(\"rating_groups\")\n",
    "rating_count = df_rating_groups[\"Avg_Rating\"].count()\n",
    "\n",
    "# Build a bar chart for the avg rating groups and display\n",
    "x_axis = np.arange(len(group_names))\n",
    "plt.bar(x_axis, rating_count, color='r', alpha=0.5, align=\"center\")\n",
    "tick_locations = [value for value in x_axis]\n",
    "plt.xticks(tick_locations, group_names, rotation=45, ha=\"right\")\n",
    "# Format the chart\n",
    "plt.title(\"Number of Counties per Avg Rating Bands\")\n",
    "plt.xlabel(\"Avg Restaurant Rating\")\n",
    "plt.ylabel(\"Number of Counties\")\n",
    "\n",
    "plt.show()"
   ]
  },
  {
   "cell_type": "code",
   "execution_count": 5,
   "metadata": {},
   "outputs": [
    {
     "data": {
      "image/png": "[encoded data removed]",
      "text/plain": [
       "<Figure size 1440x720 with 1 Axes>"
      ]
     },
     "metadata": {
      "needs_background": "light"
     },
     "output_type": "display_data"
    }
   ],
   "source": [
    "# Use a box polt to show crime rate by avg rating groups\n",
    "yelptest_df.boxplot(\"Crime Rate per 100k\", by=\"rating_groups\", figsize=(20, 10))\n",
    "plt.show()"
   ]
  },
  {
   "cell_type": "code",
   "execution_count": 6,
   "metadata": {},
   "outputs": [
    {
     "name": "stdout",
     "output_type": "stream",
     "text": [
      "F_onewayResult(statistic=10.112775602915402, pvalue=1.4435597466334614e-12)\n",
      "F_onewayResult(statistic=1.8799613237177357, pvalue=0.153710889707327)\n",
      "F_onewayResult(statistic=1.593398377555167, pvalue=0.20352013992913434)\n"
     ]
    }
   ],
   "source": [
    "# Create a dictionary of groups by avg restaurant ratings and preform ANOVA on crime rate\n",
    "dic = {}\n",
    "groups = list (yelptest_df[\"rating_groups\"].unique())\n",
    "for grouping in groups:\n",
    "    dic['{0}'.format(grouping)] = yelptest_df.loc[yelptest_df[\"rating_groups\"]==grouping,\"Crime Rate per 100k\"]\n",
    "\n",
    "print(stats.f_oneway(dic[\"<3.0\"], dic[\"3.0-3.25\"], dic[\"3.25-3.5\"], dic[\"3.5-3.75\"],dic[\"3.75-4.0\"],dic[\"4.0-4.25\"],dic[\"4.25-4.5\"], dic[\">4.5\"]))\n",
    "print(stats.f_oneway(dic[\"<3.0\"],dic[\"3.0-3.25\"],dic[\"4.25-4.5\"]))\n",
    "print(stats.f_oneway(dic[\"3.25-3.5\"],dic[\"3.5-3.75\"],dic[\"3.75-4.0\"]))"
   ]
  },
  {
   "cell_type": "code",
   "execution_count": 7,
   "metadata": {},
   "outputs": [
    {
     "data": {
      "image/png": "[encoded data removed]",
      "text/plain": [
       "<Figure size 432x288 with 1 Axes>"
      ]
     },
     "metadata": {
      "needs_background": "light"
     },
     "output_type": "display_data"
    }
   ],
   "source": [
    "# Create Bins for the ranges of avg restaurant rating\n",
    "bins = [0, 3.25, 4, 4.25, 5] # first is less than or equal to 60\n",
    "group_names = [\"<3.25\", \"3.25-4.0\",\"4.0-4.25\",\">4.25\"] \n",
    "yelptest_df[\"rating_groups2\"] = pd.cut(yelptest_df[\"Avg_Rating\"], bins, labels=group_names) \n",
    "\n",
    "# Create a list of the counts in each group\n",
    "df_rating_groups = yelptest_df.groupby(\"rating_groups2\")\n",
    "rating_count = df_rating_groups[\"Avg_Rating\"].count()\n",
    "\n",
    "# Build a bar chart for the avg rating groups and display\n",
    "x_axis = np.arange(len(group_names))\n",
    "plt.bar(x_axis, rating_count, color='r', alpha=0.5, align=\"center\")\n",
    "tick_locations = [value for value in x_axis]\n",
    "plt.xticks(tick_locations, group_names, rotation=45, ha=\"right\")\n",
    "# Format the chart\n",
    "plt.title(\"Number of Counties per Avg Rating Bands\")\n",
    "plt.xlabel(\"Avg Restaurant Rating\")\n",
    "plt.ylabel(\"Number of Counties\")\n",
    "\n",
    "plt.show()"
   ]
  },
  {
   "cell_type": "code",
   "execution_count": 8,
   "metadata": {},
   "outputs": [
    {
     "data": {
      "image/png": "[encoded data removed]",
      "text/plain": [
       "<Figure size 1440x720 with 1 Axes>"
      ]
     },
     "metadata": {
      "needs_background": "light"
     },
     "output_type": "display_data"
    }
   ],
   "source": [
    "# Use a box polt to show crime rate by avg rating groups\n",
    "yelptest_df.boxplot(\"Crime Rate per 100k\", by=\"rating_groups2\", figsize=(20, 10))\n",
    "plt.show()"
   ]
  },
  {
   "cell_type": "code",
   "execution_count": 10,
   "metadata": {},
   "outputs": [
    {
     "name": "stdout",
     "output_type": "stream",
     "text": [
      "F_onewayResult(statistic=18.960664519676783, pvalue=3.491699496728524e-12)\n"
     ]
    }
   ],
   "source": [
    "# Create a dictionary of groups by avg restaurant ratings and preform ANOVA on crime rate\n",
    "dic2 = {}\n",
    "groups = list (yelptest_df[\"rating_groups2\"].unique())\n",
    "for grouping in groups:\n",
    "    dic2['{0}'.format(grouping)] = yelptest_df.loc[yelptest_df[\"rating_groups2\"]==grouping,\"Crime Rate per 100k\"]\n",
    "\n",
    "print(stats.f_oneway(dic2[\"<3.25\"], dic2[\"3.25-4.0\"],dic2[\"4.0-4.25\"],dic2[\">4.25\"]))\n"
   ]
  },
  {
   "cell_type": "code",
   "execution_count": null,
   "metadata": {},
   "outputs": [],
   "source": [
    "# Use a box polt to show crime rate by avg rating groups\n",
    "yelptest_df.boxplot(\"MV_Theft_per_10K\", by=\"rating_groups\", figsize=(20, 10))\n",
    "plt.show()"
   ]
  },
  {
   "cell_type": "code",
   "execution_count": null,
   "metadata": {},
   "outputs": [],
   "source": [
    "bins = [0, 1000, 5000, 10000, 25000, 50000, 100000, 250000, 500000, 1000000, 9999999999999999] # first is less than or equal to 60\n",
    "group_names = [\"<1K\", \"1K-5K\", \"5K-10K\", \"10K-25K\", \"25K-50K\",\"50K-100K\",\"100K-250K\",\"250K-500K\",\"500K-1M\",\">1M\"] # One less than the bin\n",
    "yelptest_df[\"pop_groups\"] = pd.cut(yelptest_df[\"Population\"], bins, labels=group_names) \n",
    "\n",
    "df_pop_groups = yelptest_df.groupby(\"pop_groups\")\n",
    "df_pop_groups[\"Avg_Rating\"].count()"
   ]
  },
  {
   "cell_type": "code",
   "execution_count": null,
   "metadata": {},
   "outputs": [],
   "source": [
    "groups = list (yelptest_df[\"pop_groups\"].unique())\n",
    "\n",
    "dic = {}\n",
    "for grouping in groups:\n",
    "    dic['{0}'.format(grouping)] = yelptest_df.loc[yelptest_df[\"pop_groups\"]==grouping,\"Avg_Rating\"]\n",
    "# dic[\"<1K\"]\n",
    "# Create a boxplot to compare means\n",
    "yelptest_df.boxplot(\"Avg_Rating\", by=\"pop_groups\", figsize=(20, 10))\n",
    "\n",
    "stats.f_oneway(dic[\"<1K\"], dic[\"1K-5K\"], dic[\"5K-10K\"], dic[\"10K-25K\"], dic[\"25K-50K\"],dic[\"50K-100K\"],dic[\"100K-250K\"],dic[\"250K-500K\"],dic[\"500K-1M\"],dic[\">1M\"])"
   ]
  },
  {
   "cell_type": "code",
   "execution_count": null,
   "metadata": {},
   "outputs": [],
   "source": [
    "# Create a dictionary of groups by avg restaurant ratings and preform ANOVA on Murder rate\n",
    "dic = {}\n",
    "groups = list (yelptest_df[\"rating_groups\"].unique())\n",
    "for grouping in groups:\n",
    "    dic['{0}'.format(grouping)] = yelptest_df.loc[yelptest_df[\"rating_groups\"]==grouping,\"MV_Theft_per_10K\"]\n",
    "\n",
    "print(stats.f_oneway(dic[\"<3.0\"], dic[\"3.0-3.25\"], dic[\"3.25-3.5\"], dic[\"3.5-3.75\"],dic[\"3.75-4.0\"],dic[\"4.0-4.25\"],dic[\"4.25-4.5\"], dic[\">4.5\"]))\n",
    "print(stats.f_oneway(dic[\"3.0-3.25\"],dic[\"3.25-3.5\"],dic[\"3.5-3.75\"],dic[\"3.75-4.0\"]))"
   ]
  },
  {
   "cell_type": "code",
   "execution_count": null,
   "metadata": {},
   "outputs": [],
   "source": [
    "groups = list (yelptest_df[\"pop_groups\"].unique())\n",
    "\n",
    "dic = {}\n",
    "for grouping in groups:\n",
    "    dic['{0}'.format(grouping)] = yelptest_df.loc[yelptest_df[\"pop_groups\"]==grouping,\"Crime Rate per 100k\"]\n",
    "# dic[\"<1K\"]\n",
    "# Create a boxplot to compare means\n",
    "yelptest_df.boxplot(\"Crime Rate per 100k\", by=\"pop_groups\", figsize=(20, 10))\n",
    "\n",
    "stats.f_oneway(dic[\"<1K\"], dic[\"1K-5K\"], dic[\"5K-10K\"], dic[\"10K-25K\"], dic[\"25K-50K\"],dic[\"50K-100K\"],dic[\"100K-250K\"],dic[\"250K-500K\"],dic[\"500K-1M\"],dic[\">1M\"])"
   ]
  },
  {
   "cell_type": "code",
   "execution_count": null,
   "metadata": {},
   "outputs": [],
   "source": [
    "# compare the average rating for a <1K populated county to the those between 1K and 1M \n",
    "small_group = yelptest_df[yelptest_df.pop_groups.isin([\"<1K\"])][\"Avg_Rating\"]\n",
    "large_group = yelptest_df[yelptest_df.pop_groups.isin([\">1M\"])][\"Avg_Rating\"]\n",
    "avg_group = yelptest_df[~yelptest_df.pop_groups.isin([\"<1K\", \">1M\"])][\"Avg_Rating\"]\n",
    "\n",
    "stats.ttest_ind(small_group, avg_group, equal_var=False)"
   ]
  },
  {
   "cell_type": "code",
   "execution_count": null,
   "metadata": {},
   "outputs": [],
   "source": [
    "# compare the average rating for a >1M populated county to the those between 1K and 1M \n",
    "stats.ttest_ind(large_group, avg_group, equal_var=False)"
   ]
  },
  {
   "cell_type": "code",
   "execution_count": null,
   "metadata": {},
   "outputs": [],
   "source": [
    "# compare the average crime for a <1K populated county to the those between 1K and 1M \n",
    "small_crime = yelptest_df[yelptest_df.pop_groups.isin([\"<1K\"])][\"Crime Rate per 100k\"]\n",
    "large_crime = yelptest_df[yelptest_df.pop_groups.isin([\">1M\"])][\"Crime Rate per 100k\"]\n",
    "avg_crime = yelptest_df[~yelptest_df.pop_groups.isin([\"<1K\", \">1M\"])][\"Crime Rate per 100k\"]\n",
    "\n",
    "stats.ttest_ind(small_crime, avg_crime, equal_var=False)"
   ]
  },
  {
   "cell_type": "code",
   "execution_count": null,
   "metadata": {},
   "outputs": [],
   "source": [
    "# compare the average crime for a >1M populated county to the those between 1K and 1M \n",
    "stats.ttest_ind(large_crime, avg_group, equal_var=False)"
   ]
  },
  {
   "cell_type": "code",
   "execution_count": null,
   "metadata": {},
   "outputs": [],
   "source": []
  }
 ],
 "metadata": {
  "kernelspec": {
   "display_name": "Python 3",
   "language": "python",
   "name": "python3"
  },
  "language_info": {
   "codemirror_mode": {
    "name": "ipython",
    "version": 3
   },
   "file_extension": ".py",
   "mimetype": "text/x-python",
   "name": "python",
   "nbconvert_exporter": "python",
   "pygments_lexer": "ipython3",
   "version": "3.7.1"
  }
 },
 "nbformat": 4,
 "nbformat_minor": 2
}
